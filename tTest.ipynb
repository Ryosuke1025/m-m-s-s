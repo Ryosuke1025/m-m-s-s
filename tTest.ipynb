{
  "nbformat": 4,
  "nbformat_minor": 0,
  "metadata": {
    "colab": {
      "name": "仮設検定.ipynb",
      "provenance": [],
      "collapsed_sections": []
    },
    "kernelspec": {
      "name": "python3",
      "display_name": "Python 3"
    },
    "language_info": {
      "name": "python"
    }
  },
  "cells": [
    {
      "cell_type": "code",
      "execution_count": null,
      "metadata": {
        "colab": {
          "base_uri": "https://localhost:8080/"
        },
        "id": "Ut_B-xtFZgkF",
        "outputId": "6bddd2df-a5bb-4454-a88d-24d756fb7c2d"
      },
      "outputs": [
        {
          "output_type": "stream",
          "name": "stdout",
          "text": [
            "n = 50\n",
            "m = 50\n",
            "lam = 120\n",
            "end_time = 200\n",
            "戦略1とと2のロス率の標本平均: 0.9177549449020753 0.9167663408165252\n",
            "戦略戦略1とと2のロス率の不偏分散: 3.6198742466329935e-06 4.716266531415941e-06\n",
            "検定統計量: 2.4211677638935862\n",
            "自由度: 96.33359851247582\n",
            "t値: 2.8731252051171268\n"
          ]
        }
      ],
      "source": [
        "import random\n",
        "import math\n",
        "import scipy.stats as ss\n",
        "\n",
        "#自由度vののt値を得る\n",
        "def get_t(alpha, v):\n",
        "  t = ss.t.ppf(1-alpha/2, df=v)\n",
        "  return t\n",
        "\n",
        "#指数分布に従う乱数を取得\n",
        "def gen_exp(lam):\n",
        "  u = random.random()\n",
        "  x = -1/lam * math.log(u)\n",
        "  return x\n",
        "\n",
        "#mmssのロス率を取得\n",
        "def mmss(S, mu, lam, end_time):\n",
        "\n",
        "  kind = \"exp\"\n",
        "\n",
        "  t_a = 0.0  \n",
        "  t_d = [0.0] * S \n",
        "\n",
        "  n_c = 0 #到着したお客さんの数\n",
        "  n_l = 0 #ロスしたお客さんの数 \n",
        "  \n",
        "  b_uni = 0.5\n",
        "  a_uni = 2/mu - b_uni\n",
        "\n",
        "  alpha = 3 #alpha>1\n",
        "  xm = (alpha - 1)/(mu * alpha)\n",
        "\n",
        "  while t_a < end_time:\n",
        "    #2.1 お客さんの発生を行う\n",
        "    t_a = t_a + gen_exp(lam)\n",
        "    n_c += 1\n",
        "\n",
        "    #2.2客の受付処理\n",
        "    for s in range(S):\n",
        "      if t_d[s]<t_a:\n",
        "        if kind == \"exp\":\n",
        "          t_d[s] = t_a + gen_exp(mu) \n",
        "        \n",
        "        break \n",
        "     \n",
        "    else:\n",
        "      n_l += 1\n",
        "\n",
        "  return n_l/n_c\n",
        "\n",
        "#標本平均\n",
        "def average(data_s,number):\n",
        "  data_sum = 0\n",
        "  for a in range(number):\n",
        "    data_sum += data_s[a] \n",
        "  return data_sum/number\n",
        "\n",
        "#不偏分散\n",
        "def UnbiasedDispersion(data_ave, data_s, number):\n",
        "  data_dis = 0\n",
        "  for a in range(number):\n",
        "    data_dis += (data_s[a]-data_ave)**2 \n",
        "  return data_dis/(number-1)\n",
        "\n",
        "#検定統計量を求める\n",
        "def TestStatistic(n,m,ave_x,ave_y,dis_x,dis_y):\n",
        "  a = ave_x-ave_y\n",
        "  b = (dis_x/n + dis_y/m) ** (1/2)\n",
        "  return a/b\n",
        "\n",
        "#自由度を求める\n",
        "def degree(n,m,dis_x,dis_y):\n",
        "  a = (dis_x/n + dis_y/m) ** 2\n",
        "  b = (dis_x ** 2)/(n**2)/(n-1) + (dis_y ** 2)/(m**2)/(m-1)\n",
        "  return a/b\n",
        "\n",
        "#戦略1を実行\n",
        "def strategy_1(S, mu, end_time, lam, n):\n",
        "  mu = 2*mu\n",
        "  data_s = [0.0] * n\n",
        "  for i in range(n):\n",
        "    data_s[i] = mmss(S, mu, lam, end_time)\n",
        "  return data_s;  \n",
        "\n",
        "#戦略2を実行\n",
        "def strategy_2(S, mu, end_time, lam, m):\n",
        "  S = 2*S\n",
        "  data_s = [0.0] * m\n",
        "  for i in range(m):\n",
        "    data_s[i] = mmss(S, mu, lam, end_time)\n",
        "  return data_s\n",
        "\n",
        "\n",
        "S = 5 #サーバーの台数\n",
        "mu = 1#サーバの処理能力\n",
        "\n",
        "n = int(input(\"n = \"))#戦略1の標本数\n",
        "m = int(input(\"m = \"))#戦略2の標本数\n",
        "\n",
        "lam = int(input(\"lam = \"))\n",
        "end_time = int(input(\"end_time = \"))\n",
        "\n",
        "data_s1 = strategy_1(S, mu, end_time, lam, n)\n",
        "data_s2 = strategy_2(S, mu, end_time, lam, m)\n",
        "\n",
        "data_ave1 = average(data_s1,n)\n",
        "data_ave2 = average(data_s2,m)\n",
        "print(\"戦略1とと2のロス率の標本平均:\",data_ave1,data_ave2)\n",
        "\n",
        "data_dis1 = UnbiasedDispersion(data_ave1, data_s1,n)\n",
        "data_dis2 = UnbiasedDispersion(data_ave2, data_s2,m)\n",
        "print(\"戦略戦略1とと2のロス率の不偏分散:\",data_dis1,data_dis2)\n",
        "\n",
        "t = TestStatistic(n,m,data_ave1,data_ave2,data_dis1,data_dis2)\n",
        "print(\"検定統計量:\",t)\n",
        "v = degree(n,m,data_dis1,data_dis2)\n",
        "print(\"自由度:\",v)\n",
        "\n",
        "t_v = get_t(0.005, v)\n",
        "print(\"t値:\",t_v)\n",
        "\n",
        "\n",
        "\n"
      ]
    },
    {
      "cell_type": "code",
      "source": [
        "\n"
      ],
      "metadata": {
        "id": "yYMHwWeYKHLk"
      },
      "execution_count": null,
      "outputs": []
    },
    {
      "cell_type": "code",
      "source": [
        ""
      ],
      "metadata": {
        "id": "vbueLvEqr2RO"
      },
      "execution_count": null,
      "outputs": []
    }
  ]
}